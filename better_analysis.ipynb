{
 "cells": [
  {
   "cell_type": "code",
   "execution_count": 25,
   "metadata": {},
   "outputs": [],
   "source": [
    "import numpy as np\n",
    "import pandas as pd\n",
    "import matplotlib.pyplot as plt\n",
    "% matplotlib inline"
   ]
  },
  {
   "cell_type": "code",
   "execution_count": 26,
   "metadata": {},
   "outputs": [],
   "source": [
    "import json"
   ]
  },
  {
   "cell_type": "code",
   "execution_count": 27,
   "metadata": {},
   "outputs": [
    {
     "name": "stdout",
     "output_type": "stream",
     "text": [
      "Socket Opened\n",
      " was not proper json\n",
      "Socket Opened\n",
      " was not proper json\n",
      "Socket Opened\n",
      " was not proper json\n",
      "Socket Opened\n",
      " was not proper json\n",
      "Socket Opened\n",
      " was not proper json\n",
      "Socket Opened\n",
      " was not proper json\n",
      "Socket Opened\n",
      " was not proper json\n",
      "Socket Opened\n",
      " was not proper json\n",
      "Socket Opened\n",
      " was not proper json\n",
      "Socket Opened\n",
      " was not proper json\n",
      "Socket Opened\n",
      " was not proper json\n",
      "Socket Opened\n",
      " was not proper json\n",
      "Socket Opened\n",
      " was not proper json\n",
      "Socket Opened\n",
      " was not proper json\n",
      "Socket Opened\n",
      " was not proper json\n",
      "Socket Opened\n",
      " was not proper json\n",
      "Socket Opened\n",
      " was not proper json\n",
      "Socket Opened\n",
      " was not proper json\n",
      "Socket Opened\n",
      " was not proper json\n",
      "Socket Opened\n",
      " was not proper json\n",
      "Socket Opened\n",
      " was not proper json\n",
      "Socket Opened\n",
      " was not proper json\n",
      "Socket Opened\n",
      " was not proper json\n",
      "Socket Opened\n",
      " was not proper json\n",
      "Socket Opened\n",
      " was not proper json\n",
      "Socket Opened\n",
      " was not proper json\n",
      "Socket Opened\n",
      " was not proper json\n",
      "Socket Opened\n",
      " was not proper json\n",
      "\n",
      " was not proper json\n"
     ]
    }
   ],
   "source": [
    "# read data in to a list\n",
    "data_list = []\n",
    "# open file and read data in to the array\n",
    "with open(\"./collected_data/data_all.txt\") as f:\n",
    "    for line in f:\n",
    "        # print(line) # we inserted newline separator after each message received in the server\n",
    "        try:\n",
    "            x = json.loads(line)\n",
    "        except ValueError:\n",
    "            print(\"{0} was not proper json\".format(line))\n",
    "        except:\n",
    "            print(\"Unexpected Error\")\n",
    "        else:\n",
    "            # https://www.tutorialspoint.com/python/python_exceptions.htm\n",
    "            # print(x) # if you want to print the data side-by-side\n",
    "            data_list.append(x)"
   ]
  },
  {
   "cell_type": "code",
   "execution_count": 28,
   "metadata": {},
   "outputs": [],
   "source": [
    "data = np.array(data_list)"
   ]
  },
  {
   "cell_type": "code",
   "execution_count": 29,
   "metadata": {},
   "outputs": [
    {
     "data": {
      "text/plain": [
       "(24,)"
      ]
     },
     "execution_count": 29,
     "metadata": {},
     "output_type": "execute_result"
    }
   ],
   "source": [
    "data.shape"
   ]
  },
  {
   "cell_type": "code",
   "execution_count": 30,
   "metadata": {},
   "outputs": [],
   "source": [
    "#data[0]"
   ]
  },
  {
   "cell_type": "code",
   "execution_count": 31,
   "metadata": {},
   "outputs": [],
   "source": [
    "articles = {\"1\": [], \"2\": [], \"3\": [], \"4\": [], \"5\": [] }"
   ]
  },
  {
   "cell_type": "code",
   "execution_count": 32,
   "metadata": {},
   "outputs": [],
   "source": [
    "def clean_data(article_data):\n",
    "    \"\"\"\n",
    "    retains \n",
    "    \"\"\"\n",
    "    new_data = []\n",
    "    N = len(article_data)\n",
    "    first_seen = article_data[0]\n",
    "    for idx in range(0, N):\n",
    "        curr = article_data[idx]\n",
    "        if curr[0] != first_seen[0]:\n",
    "            prev = article_data[idx - 1]\n",
    "            if prev[1] != first_seen[1]:\n",
    "                new_data.append([prev[0], int(prev[1]) - int(first_seen[1])])\n",
    "                #print(\"{}, {}\".format(int(prev[1]), int(first_seen[1])))\n",
    "                first_seen = article_data[idx]\n",
    "    return new_data"
   ]
  },
  {
   "cell_type": "code",
   "execution_count": 33,
   "metadata": {},
   "outputs": [],
   "source": [
    "for item in data:\n",
    "    article_num = item[\"article\"]\n",
    "    article_data = item[\"data\"]\n",
    "    if article_data:\n",
    "        cleaned_article_data = clean_data(article_data)\n",
    "        articles[article_num].append(cleaned_article_data)"
   ]
  },
  {
   "cell_type": "code",
   "execution_count": 34,
   "metadata": {},
   "outputs": [
    {
     "name": "stdout",
     "output_type": "stream",
     "text": [
      "21\n"
     ]
    }
   ],
   "source": [
    "print(len(articles[\"1\"])+len(articles[\"2\"])+len(articles[\"3\"])+len(articles[\"4\"])+len(articles[\"5\"]))"
   ]
  },
  {
   "cell_type": "code",
   "execution_count": 35,
   "metadata": {},
   "outputs": [],
   "source": [
    "#articles[\"2\"][0]\n",
    "#len(articles[\"2\"])"
   ]
  },
  {
   "cell_type": "code",
   "execution_count": 36,
   "metadata": {},
   "outputs": [],
   "source": [
    "hid_articles = []\n",
    "vis_articles = []\n",
    "for key in [\"1\", \"2\", \"3\", \"4\", \"5\"]:\n",
    "    for arr in articles[key]:\n",
    "        if key in [\"1\", \"4\"]:\n",
    "            hid_articles.append(arr)\n",
    "        else:\n",
    "            vis_articles.append(arr)"
   ]
  },
  {
   "cell_type": "code",
   "execution_count": 37,
   "metadata": {},
   "outputs": [
    {
     "name": "stdout",
     "output_type": "stream",
     "text": [
      "7 14\n"
     ]
    }
   ],
   "source": [
    "print(\"{} {}\".format(len(hid_articles), len(vis_articles)))"
   ]
  },
  {
   "cell_type": "code",
   "execution_count": 38,
   "metadata": {},
   "outputs": [],
   "source": [
    "# for each article, get num of lines\n",
    "num_lines = {\"1\": 0, \"2\": 0, \"3\": 0, \"4\": 0, \"5\": 0 }\n",
    "for key in [\"1\", \"2\", \"3\", \"4\", \"5\"]:\n",
    "    arr = articles[key][0]\n",
    "    highest_line_num = max(arr, key=lambda x: x[0])\n",
    "    num_lines[key] = highest_line_num[0]"
   ]
  },
  {
   "cell_type": "code",
   "execution_count": 39,
   "metadata": {},
   "outputs": [
    {
     "name": "stdout",
     "output_type": "stream",
     "text": [
      "{'1': 246731, '2': 360882, '3': 441551, '4': 379271, '5': 401689}\n",
      "{'1': 3575.8115942028985, '2': 3608.82, '3': 3839.573913043478, '4': 4309.897727272727, '5': 4016.89}\n",
      "3987.2738853503183 3822.609523809524\n"
     ]
    }
   ],
   "source": [
    "# calculate average ms/line\n",
    "\n",
    "avg_ms_line = {\"1\": 0, \"2\": 0, \"3\": 0, \"4\": 0, \"5\": 0}\n",
    "for key in [\"1\", \"2\", \"3\", \"4\", \"5\"]:\n",
    "    for arr in articles[key]:\n",
    "        for pair in arr:\n",
    "            avg_ms_line[key] += int(pair[1])\n",
    "print(avg_ms_line)     # total ms spent on each\n",
    "\n",
    "for key in [\"1\", \"2\", \"3\", \"4\", \"5\"]:\n",
    "    n = len(articles[key])\n",
    "    tot_num_lines = n * num_lines[key]\n",
    "    avg_ms_line[key] /= tot_num_lines\n",
    "print(avg_ms_line)     # ms/line for each article\n",
    "\n",
    "\n",
    "avg_ms_hid = 0\n",
    "avg_ms_vis = 0\n",
    "total_lines = {\"1\": 0, \"2\": 0, \"3\": 0, \"4\": 0, \"5\": 0 }\n",
    "for key in [\"1\", \"2\", \"3\", \"4\", \"5\"]:\n",
    "    n = len(articles[key])\n",
    "    avg = avg_ms_line[key]\n",
    "    tot_num_lines = n * num_lines[key]\n",
    "    total_lines[key] = tot_num_lines\n",
    "    total_ms = avg * tot_num_lines\n",
    "    if key in [\"1\", \"4\"]:\n",
    "        avg_ms_hid += total_ms\n",
    "    else:\n",
    "        avg_ms_vis += total_ms\n",
    "avg_ms_hid /= (total_lines[\"1\"] + total_lines[\"4\"])\n",
    "avg_ms_vis /= (total_lines[\"2\"] + total_lines[\"3\"] + total_lines[\"5\"])\n",
    "print(avg_ms_hid, avg_ms_vis)"
   ]
  },
  {
   "cell_type": "code",
   "execution_count": 40,
   "metadata": {},
   "outputs": [
    {
     "name": "stdout",
     "output_type": "stream",
     "text": [
      "{'1': -95, '2': -146, '3': -160, '4': -111, '5': -91}\n",
      "{'1': -1.3768115942028984, '2': -1.46, '3': -1.391304347826087, '4': -1.2613636363636365, '5': -0.91}\n"
     ]
    }
   ],
   "source": [
    "# calculate reversions\n",
    "\n",
    "penalties = {\"1\": 0, \"2\": 0, \"3\": 0, \"4\": 0, \"5\": 0 }\n",
    "for key in [\"1\", \"2\", \"3\", \"4\", \"5\"]:\n",
    "    for arr in articles[key]:\n",
    "        for idx, pair in enumerate(arr[1:]):\n",
    "            if pair[0] < arr[idx-1][0]:\n",
    "                penalties[key] -= 1\n",
    "            elif pair[0] > arr[idx-1][0] + 10:\n",
    "                penalties[key] -= 1\n",
    "print(penalties) # raw numbers\n",
    "\n",
    "for key in [\"1\", \"2\", \"3\", \"4\", \"5\"]:\n",
    "    penalties[key] /= total_lines[key]\n",
    "print(penalties) # reversions per line"
   ]
  },
  {
   "cell_type": "code",
   "execution_count": null,
   "metadata": {},
   "outputs": [],
   "source": []
  }
 ],
 "metadata": {
  "kernelspec": {
   "display_name": "Python 3",
   "language": "python",
   "name": "python3"
  },
  "language_info": {
   "codemirror_mode": {
    "name": "ipython",
    "version": 3
   },
   "file_extension": ".py",
   "mimetype": "text/x-python",
   "name": "python",
   "nbconvert_exporter": "python",
   "pygments_lexer": "ipython3",
   "version": "3.6.4"
  }
 },
 "nbformat": 4,
 "nbformat_minor": 2
}
